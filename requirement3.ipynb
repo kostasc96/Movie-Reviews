{
 "cells": [
  {
   "cell_type": "code",
   "execution_count": 1,
   "metadata": {},
   "outputs": [],
   "source": [
    "import pandas as pd\n",
    "import numpy as np\n",
    "\n",
    "\n",
    "import matplotlib.pyplot as plt\n",
    "import seaborn as sns\n",
    "from sklearn.feature_extraction.text import ENGLISH_STOP_WORDS\n",
    "from sklearn.preprocessing import StandardScaler\n",
    "from sklearn.model_selection import KFold\n",
    "from sklearn.model_selection import train_test_split\n",
    "from sklearn.metrics import classification_report, confusion_matrix\n",
    "from sklearn.metrics import classification_report, precision_score, recall_score, f1_score, accuracy_score\n",
    "from nltk.corpus import stopwords\n",
    "import spacy\n",
    "from sklearn import linear_model\n",
    "from sklearn.feature_extraction.text import TfidfVectorizer\n",
    "from sklearn.feature_extraction.text import TfidfTransformer\n",
    "from sklearn.decomposition import TruncatedSVD\n",
    "from sklearn.feature_extraction.text import CountVectorizer\n",
    "from sklearn.pipeline import Pipeline\n",
    "from sklearn import metrics\n",
    "from sklearn.svm import SVC\n",
    "from sklearn.model_selection import GridSearchCV\n",
    "from sklearn import preprocessing\n",
    "from sklearn.pipeline import make_pipeline\n",
    "from sklearn.model_selection import cross_val_score\n",
    "from sklearn.model_selection import cross_val_predict\n",
    "from sklearn.metrics import accuracy_score\n",
    "from nltk.stem.porter import *\n",
    "from nltk import word_tokenize\n",
    "from nltk.stem.snowball import SnowballStemmer\n",
    "from collections import Counter\n",
    "from nltk.stem import WordNetLemmatizer\n",
    "from nltk.corpus import wordnet\n",
    "import nltk\n",
    "from nltk.stem.snowball import SnowballStemmer\n",
    "\n",
    "%matplotlib inline"
   ]
  },
  {
   "cell_type": "code",
   "execution_count": 2,
   "metadata": {},
   "outputs": [],
   "source": [
    "train_data = pd.read_csv('datasets/q3/train.csv', sep=',')\n",
    "test_data = pd.read_csv('datasets/q3/test_without_labels.csv', sep=',')\n",
    "\n",
    "more_stop_words = ['made','whoever','who','said','day','will','new','now','time','say','second','month','first','going','year','back','people','case','according']"
   ]
  },
  {
   "cell_type": "code",
   "execution_count": 4,
   "metadata": {},
   "outputs": [
    {
     "data": {
      "text/plain": [
       "<matplotlib.axes._subplots.AxesSubplot at 0x17abcdb75c0>"
      ]
     },
     "execution_count": 4,
     "metadata": {},
     "output_type": "execute_result"
    },
    {
     "data": {
      "image/png": "[encoded data removed]",
      "text/plain": [
       "<Figure size 432x288 with 1 Axes>"
      ]
     },
     "metadata": {
      "needs_background": "light"
     },
     "output_type": "display_data"
    }
   ],
   "source": [
    "sns.countplot(x='Label',data=train_data)"
   ]
  },
  {
   "cell_type": "code",
   "execution_count": 4,
   "metadata": {},
   "outputs": [],
   "source": [
    "#X = train_data['Content'].head(10000)\n",
    "#y = train_data['Label'].head(10000)\n",
    "X = train_data['Content']\n",
    "y = train_data['Label']\n",
    "X = np.array(X).flatten()\n",
    "y = np.array(y).flatten()"
   ]
  },
  {
   "cell_type": "code",
   "execution_count": 5,
   "metadata": {},
   "outputs": [],
   "source": [
    "import re\n",
    "from nltk import ngrams\n",
    "\n",
    "stopWords = []\n",
    "stopWords.extend(['saying', 'said', 'say', 'yes', 'instead', 'meanwhile', 'now', 'one', 'suggested', 'says', 'added','know', 'though', 'let', 'going', 'back',\n",
    "                       'well', 'example', 'us', 'yet', 'perhaps', 'actually', 'year', 'lastyear','maybe', 'ask', '.', ',', ':', 'take', 'n\\'t', 'go', \n",
    "                       'make', 'two', 'got', 'took','get', '?', 'would', '(', '\\'', ')', '``', '/', \"''\", '%', '#', '!', \"'s\", ';', '[', ']', '...',\n",
    "                       \"'m\", \"'d\", 'also', 'something', 'even', 'new', 'lot', 'a', 'thing', 'time', 'way','whose', 'people', 'come'])\n",
    "\n",
    "stopWords.extend([' ','are','and','I','A','And','So','This','When','It','so','These','these'])\n",
    "stopWords.extend(more_stop_words)"
   ]
  },
  {
   "cell_type": "markdown",
   "metadata": {},
   "source": [
    "### Method 1: Machine Learning"
   ]
  },
  {
   "cell_type": "code",
   "execution_count": 6,
   "metadata": {},
   "outputs": [
    {
     "name": "stderr",
     "output_type": "stream",
     "text": [
      "c:\\python\\python37\\lib\\site-packages\\sklearn\\feature_extraction\\text.py:300: UserWarning: Your stop_words may be inconsistent with your preprocessing. Tokenizing the stop words generated tokens ['accord', 'actual', 'ad', 'd', 'exampl', 'i', 'it', 'm', 'mayb', 'meanwhil', 'nt', 'peopl', 'perhap', 's', 'someth', 'suggest', 'this', 'when'] not in stop_words.\n",
      "  'stop_words.' % sorted(inconsistent))\n"
     ]
    },
    {
     "name": "stdout",
     "output_type": "stream",
     "text": [
      "Accuracy =  0.89184\n",
      "Precision =  0.8920063357556798\n",
      "Recall =  0.891880753937008\n",
      "f1-score =  0.8918126858756633\n"
     ]
    }
   ],
   "source": [
    "#nltk.download('stopwords')\n",
    "#stopWords = stopwords.words('english')\n",
    "#from nltk.stem import WordNetLemmatizer\n",
    "#nltk.download('wordnet')\n",
    "\n",
    "def processText(text):    \n",
    "    p_stemmer = SnowballStemmer(language='english')\n",
    "    text = re.sub(r'[^\\w\\s]','',text)\n",
    "    text = re.sub(r\" can't \", \" can not \", text, flags=re.IGNORECASE)\n",
    "    text = re.sub(r\" cannot \", \" can not \", text, flags=re.IGNORECASE)\n",
    "    text = re.sub(r\" isn't \", \" is not \", text, flags=re.IGNORECASE)\n",
    "    text = re.sub(r\" ain't \", \" is not \", text, flags=re.IGNORECASE)\n",
    "    text = re.sub(r\" aint \", \" is not \", text, flags=re.IGNORECASE)\n",
    "    text = re.sub(r\" aint' \", \" is not \", text, flags=re.IGNORECASE)\n",
    "    text = re.sub(r\" aren't \", \" are not \", text, flags=re.IGNORECASE)\n",
    "    text = re.sub(r\" mustn't \", \" must not \", text, flags=re.IGNORECASE)\n",
    "    text = re.sub(r\" shouldn't \", \" should not \", text, flags=re.IGNORECASE)\n",
    "    text = re.sub(r\" terrible \", \" awful \", text, flags=re.IGNORECASE)\n",
    "    tokens = text.lower()\n",
    "    tokens = tokens.split()\n",
    "    #tokens = [wrd for wrd in tokens if(wrd not in stopWords)]\n",
    "    #lemmatizer = WordNetLemmatizer()\n",
    "    #tokens = [lemmatizer.lemmatize(t) for t in tokens]\n",
    "    #tokens = [wrd for wrd in tokens if(wrd not in stopWords)]\n",
    "    stems = [p_stemmer.stem(t) for t in tokens]\n",
    "    #stems = ' '.join(stems)\n",
    "    #stems = ngrams(stems,3)\n",
    "    return stems\n",
    "\n",
    "\n",
    "vectorizer = TfidfVectorizer(tokenizer=processText, stop_words = stopWords,use_idf=True)\n",
    "#vectorizer = TfidfVectorizer(tokenizer=processText, stop_words = 'english',max_df=0.9, min_df=3)\n",
    "\n",
    "\n",
    "nb = SVC(kernel='rbf',C=8,gamma=0.1)    \n",
    "#nb = KNeighborsClassifier(n_neighbors=3)\n",
    "#nb = ComplementNB()\n",
    "\n",
    "estimators = [(\"tf_idf\",vectorizer),(\"svm\",nb)]\n",
    "model = Pipeline(estimators)\n",
    "\n",
    "kf = KFold(n_splits=5)\n",
    "\n",
    "accuracy,precision,recall,f1 = 0,0,0,0\n",
    "\n",
    "for trainI,testI in kf.split(X):\n",
    "    #kfTestCategIds = le.transform(y[testI])\n",
    "    model.fit(X[trainI],y[trainI])\n",
    "    predictions = model.predict(X[testI])\n",
    "    \n",
    "    ret = precision_score(y[testI], predictions, average='macro')\n",
    "    precision += ret\n",
    "\n",
    "    ret = recall_score(y[testI], predictions, average='macro')\n",
    "    recall += ret\n",
    "\n",
    "    ret = f1_score(y[testI], predictions, average='macro')\n",
    "    f1 += ret\n",
    "\n",
    "    accuracy += accuracy_score(y[testI], predictions)\n",
    "    \n",
    "#accuracy,precision,recall,f1 = accuracy/float(5),precision/float(5),recall/float(5),f1/float(5)\n",
    "accuracy,precision,recall,f1 = accuracy/5,precision/5,recall/5,f1/5\n",
    "print(\"Accuracy = \",end=' ')\n",
    "print(accuracy)\n",
    "print(\"Precision = \",end=' ')\n",
    "print(precision)\n",
    "print(\"Recall = \",end=' ')\n",
    "print(recall)\n",
    "print(\"f1-score = \",end=' ')\n",
    "print(f1)"
   ]
  },
  {
   "cell_type": "markdown",
   "metadata": {},
   "source": [
    "### Deep Learning"
   ]
  },
  {
   "cell_type": "code",
   "execution_count": 9,
   "metadata": {},
   "outputs": [],
   "source": [
    "from keras.models import Sequential\n",
    "from keras.layers import Embedding, LSTM, Dense, GlobalMaxPool1D, Dropout\n",
    "from keras.preprocessing.text import Tokenizer\n",
    "from keras.preprocessing.sequence import pad_sequences\n",
    "\n",
    "\n",
    "def processText2(text):    \n",
    "    p_stemmer = SnowballStemmer(language='english')\n",
    "    text = re.sub(r'[^\\w\\s]','',text)\n",
    "    text = re.sub(r\" can't \", \" can not \", text, flags=re.IGNORECASE)\n",
    "    text = re.sub(r\" cannot \", \" can not \", text, flags=re.IGNORECASE)\n",
    "    text = re.sub(r\" isn't \", \" is not \", text, flags=re.IGNORECASE)\n",
    "    text = re.sub(r\" ain't \", \" is not \", text, flags=re.IGNORECASE)\n",
    "    text = re.sub(r\" aint \", \" is not \", text, flags=re.IGNORECASE)\n",
    "    text = re.sub(r\" aint' \", \" is not \", text, flags=re.IGNORECASE)\n",
    "    text = re.sub(r\" aren't \", \" are not \", text, flags=re.IGNORECASE)\n",
    "    text = re.sub(r\" mustn't \", \" must not \", text, flags=re.IGNORECASE)\n",
    "    text = re.sub(r\" shouldn't \", \" should not \", text, flags=re.IGNORECASE)\n",
    "    text = re.sub(r\" terrible \", \" awful \", text, flags=re.IGNORECASE)\n",
    "    tokens = text.lower()\n",
    "    tokens = tokens.split()\n",
    "    stems = [p_stemmer.stem(t) for t in tokens]\n",
    "    stems = [wrd for wrd in stems if(wrd not in stopWords)]\n",
    "    stems = ' '.join(stems)\n",
    "    return stems\n",
    "\n",
    "temp_train = train_data['Content']\n",
    "#for i in temp_train:\n",
    "#    i = processText2(i)\n",
    "\n",
    "X_train = temp_train.map(processText2)\n",
    "y = train_data['Label']\n",
    "    \n",
    "#X = np.array(temp_train).flatten()\n",
    "#y = np.array(train_data['Label'].head(10000)).flatten()\n",
    "\n",
    "tokenizer = Tokenizer(num_words=10000)\n",
    "tokenizer.fit_on_texts(X)\n",
    "X_train_seq = pd.Series(tokenizer.texts_to_sequences(X))\n",
    "X_train_pad = pad_sequences(X_train_seq)\n",
    "    \n",
    "model = Sequential()\n",
    "model.add(Embedding(input_dim=10000, output_dim=32))\n",
    "model.add(LSTM(32, return_sequences=True))\n",
    "model.add(GlobalMaxPool1D())\n",
    "model.add(Dense(16, activation='relu'))\n",
    "model.add(Dropout(0.2))\n",
    "model.add(Dense(1, activation='sigmoid'))\n",
    "model.compile(loss=\"binary_crossentropy\", optimizer='adam', metrics=['accuracy'])\n",
    "\n",
    "epochs = 2\n",
    "batch_size = 32"
   ]
  },
  {
   "cell_type": "code",
   "execution_count": 10,
   "metadata": {},
   "outputs": [
    {
     "name": "stdout",
     "output_type": "stream",
     "text": [
      "Epoch 1/2\n",
      " - 380s - loss: 0.4701 - accuracy: 0.7714\n",
      "Epoch 2/2\n",
      " - 381s - loss: 0.2467 - accuracy: 0.9105\n",
      "Epoch 1/2\n",
      " - 380s - loss: 0.2046 - accuracy: 0.9278\n",
      "Epoch 2/2\n",
      " - 385s - loss: 0.1416 - accuracy: 0.9528\n",
      "Epoch 1/2\n",
      " - 381s - loss: 0.1295 - accuracy: 0.9588\n",
      "Epoch 2/2\n",
      " - 381s - loss: 0.0834 - accuracy: 0.9765\n",
      "Epoch 1/2\n",
      " - 381s - loss: 0.0836 - accuracy: 0.9754\n",
      "Epoch 2/2\n",
      " - 381s - loss: 0.0524 - accuracy: 0.9853\n",
      "Epoch 1/2\n",
      " - 381s - loss: 0.0523 - accuracy: 0.9851\n",
      "Epoch 2/2\n",
      " - 382s - loss: 0.0336 - accuracy: 0.9913\n",
      "Accuracy =  0.9437199999999999\n",
      "Precision =  0.9444293608727607\n",
      "Recall =  0.9436854828686458\n",
      "f1-score =  0.943655735634399\n"
     ]
    }
   ],
   "source": [
    "accuracy,precision,recall,f1 = 0,0,0,0\n",
    "kf = KFold(n_splits=5)\n",
    "\n",
    "#X = np.array(X_train_pad).flatten()\n",
    "#y = np.array(y).flatten\n",
    "\n",
    "#model.fit(x=X_train_pad, y=y, batch_size=batch_size, epochs=epochs, validation_split=0.01)\n",
    "\n",
    "for trainI,testI in kf.split(X):\n",
    "    #kfTestCategIds = le.transform(y[testI])\n",
    "    model.fit(X_train_pad[trainI], y[trainI], batch_size=batch_size, epochs=epochs,verbose=2)\n",
    "    predictions = model.predict_classes(X_train_pad[testI])\n",
    "    \n",
    "    ret = precision_score(y[testI], predictions, average='macro')\n",
    "    precision += ret\n",
    "\n",
    "    ret = recall_score(y[testI], predictions, average='macro')\n",
    "    recall += ret\n",
    "\n",
    "    ret = f1_score(y[testI], predictions, average='macro')\n",
    "    f1 += ret\n",
    "\n",
    "    accuracy += accuracy_score(y[testI], predictions)\n",
    "    \n",
    "#accuracy,precision,recall,f1 = accuracy/float(5),precision/float(5),recall/float(5),f1/float(5)\n",
    "accuracy,precision,recall,f1 = accuracy/5,precision/5,recall/5,f1/5\n",
    "print(\"Accuracy = \",end=' ')\n",
    "print(accuracy)\n",
    "print(\"Precision = \",end=' ')\n",
    "print(precision)\n",
    "print(\"Recall = \",end=' ')\n",
    "print(recall)\n",
    "print(\"f1-score = \",end=' ')\n",
    "print(f1)"
   ]
  },
  {
   "cell_type": "code",
   "execution_count": 11,
   "metadata": {},
   "outputs": [],
   "source": [
    "test_data = test_data['Content']\n",
    "test_data.map(processText2)\n",
    "\n",
    "#tokenizer = Tokenizer(num_words=6000)\n",
    "tokenizer.fit_on_texts(test_data)\n",
    "X_test_seq = pd.Series(tokenizer.texts_to_sequences(test_data))\n",
    "X_test_pad = pad_sequences(X_test_seq)"
   ]
  },
  {
   "cell_type": "code",
   "execution_count": 12,
   "metadata": {},
   "outputs": [],
   "source": [
    "pred_final = model.predict_classes(X_test_pad)"
   ]
  },
  {
   "cell_type": "code",
   "execution_count": 13,
   "metadata": {},
   "outputs": [],
   "source": [
    "test_data = pd.read_csv('datasets/q3/test_without_labels.csv', sep=',')\n",
    "to_print_arr = np.array(test_data[['Id']]).flatten()\n",
    "columns = pd.Index(['Id','Predicted'])\n",
    "data = np.column_stack((to_print_arr,pred_final))\n",
    "df_final = pd.DataFrame(data, index=None, columns = columns)\n",
    "df_final.to_csv('q3/sentiment_predictions.csv', sep=',', index=False)"
   ]
  },
  {
   "cell_type": "markdown",
   "metadata": {},
   "source": [
    "### End of Requirement3"
   ]
  }
 ],
 "metadata": {
  "kernelspec": {
   "display_name": "Python 3",
   "language": "python",
   "name": "python3"
  },
  "language_info": {
   "codemirror_mode": {
    "name": "ipython",
    "version": 3
   },
   "file_extension": ".py",
   "mimetype": "text/x-python",
   "name": "python",
   "nbconvert_exporter": "python",
   "pygments_lexer": "ipython3",
   "version": "3.7.3"
  }
 },
 "nbformat": 4,
 "nbformat_minor": 2
}
